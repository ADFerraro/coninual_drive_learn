{
 "cells": [
  {
   "cell_type": "markdown",
   "id": "de4ac580-7e50-4a32-9ec9-70a2f6fb710f",
   "metadata": {},
   "source": [
    "# Project prototype in pytorch"
   ]
  },
  {
   "cell_type": "markdown",
   "id": "c7c244bd-172c-4e95-82f3-6b10c60db6f6",
   "metadata": {},
   "source": [
    "## Import phase"
   ]
  },
  {
   "cell_type": "code",
   "execution_count": 4,
   "id": "7720c042-dbdc-4ff7-b720-a5f98383a1fb",
   "metadata": {},
   "outputs": [],
   "source": [
    "import pandas as pd\n",
    "import numpy as np\n",
    "import torch\n",
    "import torch.nn as nn\n",
    "import torch.optim as optim\n",
    "import torchvision\n",
    "import torchvision.transforms as transforms\n",
    "import os\n",
    "from skimage import io, transform\n",
    "from torch.utils.data import Dataset, DataLoader\n",
    "from matplotlib import pyplot as plt"
   ]
  },
  {
   "cell_type": "code",
   "execution_count": 5,
   "id": "38176066-f5b7-487b-9229-881be20cd8e6",
   "metadata": {},
   "outputs": [],
   "source": [
    "torch.manual_seed(42)\n",
    "device = torch.device('cuda' if torch.cuda.is_available() else 'cpu')"
   ]
  },
  {
   "cell_type": "markdown",
   "id": "2c6f6737-95fb-4097-9f8c-ed72fe54a232",
   "metadata": {},
   "source": [
    "## Read CSV file"
   ]
  },
  {
   "cell_type": "code",
   "execution_count": 7,
   "id": "16dbfb6c-3a6b-4635-b70d-bf635654e17f",
   "metadata": {},
   "outputs": [],
   "source": [
    "columns = ['center','left','right','steering','throttle','reverse', 'speed']\n",
    "data = pd.read_csv('./driving_log.csv', names = columns, sep=';')"
   ]
  },
  {
   "cell_type": "code",
   "execution_count": 8,
   "id": "fa649db9-6002-4c2f-bcf2-3ff101198055",
   "metadata": {},
   "outputs": [
    {
     "data": {
      "text/html": [
       "<div>\n",
       "<style scoped>\n",
       "    .dataframe tbody tr th:only-of-type {\n",
       "        vertical-align: middle;\n",
       "    }\n",
       "\n",
       "    .dataframe tbody tr th {\n",
       "        vertical-align: top;\n",
       "    }\n",
       "\n",
       "    .dataframe thead th {\n",
       "        text-align: right;\n",
       "    }\n",
       "</style>\n",
       "<table border=\"1\" class=\"dataframe\">\n",
       "  <thead>\n",
       "    <tr style=\"text-align: right;\">\n",
       "      <th></th>\n",
       "      <th>center</th>\n",
       "      <th>left</th>\n",
       "      <th>right</th>\n",
       "      <th>steering</th>\n",
       "      <th>throttle</th>\n",
       "      <th>reverse</th>\n",
       "      <th>speed</th>\n",
       "    </tr>\n",
       "  </thead>\n",
       "  <tbody>\n",
       "    <tr>\n",
       "      <th>0</th>\n",
       "      <td>/IMG/center_2020_07_14_14_18_36_008.jpg</td>\n",
       "      <td>/IMG/left_2020_07_14_14_18_36_008.jpg</td>\n",
       "      <td>/IMG/right_2020_07_14_14_18_36_008.jpg</td>\n",
       "      <td>-0.158824</td>\n",
       "      <td>0.000000</td>\n",
       "      <td>0</td>\n",
       "      <td>8.075665</td>\n",
       "    </tr>\n",
       "    <tr>\n",
       "      <th>1</th>\n",
       "      <td>/IMG/center_2020_07_14_14_18_36_090.jpg</td>\n",
       "      <td>/IMG/left_2020_07_14_14_18_36_090.jpg</td>\n",
       "      <td>/IMG/right_2020_07_14_14_18_36_090.jpg</td>\n",
       "      <td>-0.170588</td>\n",
       "      <td>0.000000</td>\n",
       "      <td>0</td>\n",
       "      <td>7.992766</td>\n",
       "    </tr>\n",
       "    <tr>\n",
       "      <th>2</th>\n",
       "      <td>/IMG/center_2020_07_14_14_18_36_168.jpg</td>\n",
       "      <td>/IMG/left_2020_07_14_14_18_36_168.jpg</td>\n",
       "      <td>/IMG/right_2020_07_14_14_18_36_168.jpg</td>\n",
       "      <td>-0.170588</td>\n",
       "      <td>0.000000</td>\n",
       "      <td>0</td>\n",
       "      <td>7.944249</td>\n",
       "    </tr>\n",
       "    <tr>\n",
       "      <th>3</th>\n",
       "      <td>/IMG/center_2020_07_14_14_18_36_247.jpg</td>\n",
       "      <td>/IMG/left_2020_07_14_14_18_36_247.jpg</td>\n",
       "      <td>/IMG/right_2020_07_14_14_18_36_247.jpg</td>\n",
       "      <td>-0.170588</td>\n",
       "      <td>0.263050</td>\n",
       "      <td>0</td>\n",
       "      <td>8.021999</td>\n",
       "    </tr>\n",
       "    <tr>\n",
       "      <th>4</th>\n",
       "      <td>/IMG/center_2020_07_14_14_18_36_343.jpg</td>\n",
       "      <td>/IMG/left_2020_07_14_14_18_36_343.jpg</td>\n",
       "      <td>/IMG/right_2020_07_14_14_18_36_343.jpg</td>\n",
       "      <td>-0.170588</td>\n",
       "      <td>0.241389</td>\n",
       "      <td>0</td>\n",
       "      <td>8.324794</td>\n",
       "    </tr>\n",
       "  </tbody>\n",
       "</table>\n",
       "</div>"
      ],
      "text/plain": [
       "                                    center  \\\n",
       "0  /IMG/center_2020_07_14_14_18_36_008.jpg   \n",
       "1  /IMG/center_2020_07_14_14_18_36_090.jpg   \n",
       "2  /IMG/center_2020_07_14_14_18_36_168.jpg   \n",
       "3  /IMG/center_2020_07_14_14_18_36_247.jpg   \n",
       "4  /IMG/center_2020_07_14_14_18_36_343.jpg   \n",
       "\n",
       "                                    left  \\\n",
       "0  /IMG/left_2020_07_14_14_18_36_008.jpg   \n",
       "1  /IMG/left_2020_07_14_14_18_36_090.jpg   \n",
       "2  /IMG/left_2020_07_14_14_18_36_168.jpg   \n",
       "3  /IMG/left_2020_07_14_14_18_36_247.jpg   \n",
       "4  /IMG/left_2020_07_14_14_18_36_343.jpg   \n",
       "\n",
       "                                    right  steering  throttle  reverse  \\\n",
       "0  /IMG/right_2020_07_14_14_18_36_008.jpg -0.158824  0.000000        0   \n",
       "1  /IMG/right_2020_07_14_14_18_36_090.jpg -0.170588  0.000000        0   \n",
       "2  /IMG/right_2020_07_14_14_18_36_168.jpg -0.170588  0.000000        0   \n",
       "3  /IMG/right_2020_07_14_14_18_36_247.jpg -0.170588  0.263050        0   \n",
       "4  /IMG/right_2020_07_14_14_18_36_343.jpg -0.170588  0.241389        0   \n",
       "\n",
       "      speed  \n",
       "0  8.075665  \n",
       "1  7.992766  \n",
       "2  7.944249  \n",
       "3  8.021999  \n",
       "4  8.324794  "
      ]
     },
     "execution_count": 8,
     "metadata": {},
     "output_type": "execute_result"
    }
   ],
   "source": [
    "data.head()"
   ]
  },
  {
   "cell_type": "code",
   "execution_count": 9,
   "id": "92dcf8a6-5b45-48fb-bcb1-0b72d859a735",
   "metadata": {},
   "outputs": [
    {
     "data": {
      "text/plain": [
       "center      2489\n",
       "left        2489\n",
       "right       2489\n",
       "steering     138\n",
       "throttle     576\n",
       "reverse        1\n",
       "speed       1195\n",
       "dtype: int64"
      ]
     },
     "execution_count": 9,
     "metadata": {},
     "output_type": "execute_result"
    }
   ],
   "source": [
    "data.nunique()"
   ]
  },
  {
   "cell_type": "code",
   "execution_count": 10,
   "id": "1e239fb7-6d09-461f-9844-91595f69e315",
   "metadata": {},
   "outputs": [
    {
     "data": {
      "text/html": [
       "<div>\n",
       "<style scoped>\n",
       "    .dataframe tbody tr th:only-of-type {\n",
       "        vertical-align: middle;\n",
       "    }\n",
       "\n",
       "    .dataframe tbody tr th {\n",
       "        vertical-align: top;\n",
       "    }\n",
       "\n",
       "    .dataframe thead th {\n",
       "        text-align: right;\n",
       "    }\n",
       "</style>\n",
       "<table border=\"1\" class=\"dataframe\">\n",
       "  <thead>\n",
       "    <tr style=\"text-align: right;\">\n",
       "      <th></th>\n",
       "      <th>center</th>\n",
       "      <th>left</th>\n",
       "      <th>right</th>\n",
       "      <th>steering</th>\n",
       "      <th>throttle</th>\n",
       "      <th>reverse</th>\n",
       "      <th>speed</th>\n",
       "    </tr>\n",
       "  </thead>\n",
       "  <tbody>\n",
       "    <tr>\n",
       "      <th>min</th>\n",
       "      <td>/IMG/center_2020_07_14_14_18_36_008.jpg</td>\n",
       "      <td>/IMG/left_2020_07_14_14_18_36_008.jpg</td>\n",
       "      <td>/IMG/right_2020_07_14_14_18_36_008.jpg</td>\n",
       "      <td>-0.976471</td>\n",
       "      <td>0.0</td>\n",
       "      <td>0</td>\n",
       "      <td>0.001131</td>\n",
       "    </tr>\n",
       "    <tr>\n",
       "      <th>max</th>\n",
       "      <td>/IMG/center_2020_07_14_14_33_42_992.jpg</td>\n",
       "      <td>/IMG/left_2020_07_14_14_33_42_992.jpg</td>\n",
       "      <td>/IMG/right_2020_07_14_14_33_42_992.jpg</td>\n",
       "      <td>0.841176</td>\n",
       "      <td>1.0</td>\n",
       "      <td>0</td>\n",
       "      <td>30.550280</td>\n",
       "    </tr>\n",
       "  </tbody>\n",
       "</table>\n",
       "</div>"
      ],
      "text/plain": [
       "                                      center  \\\n",
       "min  /IMG/center_2020_07_14_14_18_36_008.jpg   \n",
       "max  /IMG/center_2020_07_14_14_33_42_992.jpg   \n",
       "\n",
       "                                      left  \\\n",
       "min  /IMG/left_2020_07_14_14_18_36_008.jpg   \n",
       "max  /IMG/left_2020_07_14_14_33_42_992.jpg   \n",
       "\n",
       "                                      right  steering  throttle  reverse  \\\n",
       "min  /IMG/right_2020_07_14_14_18_36_008.jpg -0.976471       0.0        0   \n",
       "max  /IMG/right_2020_07_14_14_33_42_992.jpg  0.841176       1.0        0   \n",
       "\n",
       "         speed  \n",
       "min   0.001131  \n",
       "max  30.550280  "
      ]
     },
     "execution_count": 10,
     "metadata": {},
     "output_type": "execute_result"
    }
   ],
   "source": [
    "data.agg(['min', 'max'])"
   ]
  },
  {
   "cell_type": "code",
   "execution_count": 11,
   "id": "7d82286d-6c1f-4bac-8c33-13d10fde72ed",
   "metadata": {},
   "outputs": [
    {
     "data": {
      "text/html": [
       "<div>\n",
       "<style scoped>\n",
       "    .dataframe tbody tr th:only-of-type {\n",
       "        vertical-align: middle;\n",
       "    }\n",
       "\n",
       "    .dataframe tbody tr th {\n",
       "        vertical-align: top;\n",
       "    }\n",
       "\n",
       "    .dataframe thead th {\n",
       "        text-align: right;\n",
       "    }\n",
       "</style>\n",
       "<table border=\"1\" class=\"dataframe\">\n",
       "  <thead>\n",
       "    <tr style=\"text-align: right;\">\n",
       "      <th></th>\n",
       "      <th>center</th>\n",
       "      <th>left</th>\n",
       "      <th>right</th>\n",
       "      <th>steering</th>\n",
       "      <th>throttle</th>\n",
       "      <th>reverse</th>\n",
       "      <th>speed</th>\n",
       "    </tr>\n",
       "  </thead>\n",
       "  <tbody>\n",
       "    <tr>\n",
       "      <th>0</th>\n",
       "      <td>/IMG/center_2020_07_14_14_18_36_008.jpg</td>\n",
       "      <td>/IMG/left_2020_07_14_14_18_36_008.jpg</td>\n",
       "      <td>/IMG/right_2020_07_14_14_18_36_008.jpg</td>\n",
       "      <td>-0.158824</td>\n",
       "      <td>0.000000</td>\n",
       "      <td>0</td>\n",
       "      <td>8.075665</td>\n",
       "    </tr>\n",
       "    <tr>\n",
       "      <th>1</th>\n",
       "      <td>/IMG/center_2020_07_14_14_18_36_090.jpg</td>\n",
       "      <td>/IMG/left_2020_07_14_14_18_36_090.jpg</td>\n",
       "      <td>/IMG/right_2020_07_14_14_18_36_090.jpg</td>\n",
       "      <td>-0.170588</td>\n",
       "      <td>0.000000</td>\n",
       "      <td>0</td>\n",
       "      <td>7.992766</td>\n",
       "    </tr>\n",
       "    <tr>\n",
       "      <th>2</th>\n",
       "      <td>/IMG/center_2020_07_14_14_18_36_168.jpg</td>\n",
       "      <td>/IMG/left_2020_07_14_14_18_36_168.jpg</td>\n",
       "      <td>/IMG/right_2020_07_14_14_18_36_168.jpg</td>\n",
       "      <td>-0.170588</td>\n",
       "      <td>0.000000</td>\n",
       "      <td>0</td>\n",
       "      <td>7.944249</td>\n",
       "    </tr>\n",
       "    <tr>\n",
       "      <th>3</th>\n",
       "      <td>/IMG/center_2020_07_14_14_18_36_247.jpg</td>\n",
       "      <td>/IMG/left_2020_07_14_14_18_36_247.jpg</td>\n",
       "      <td>/IMG/right_2020_07_14_14_18_36_247.jpg</td>\n",
       "      <td>-0.170588</td>\n",
       "      <td>0.263050</td>\n",
       "      <td>0</td>\n",
       "      <td>8.021999</td>\n",
       "    </tr>\n",
       "    <tr>\n",
       "      <th>4</th>\n",
       "      <td>/IMG/center_2020_07_14_14_18_36_343.jpg</td>\n",
       "      <td>/IMG/left_2020_07_14_14_18_36_343.jpg</td>\n",
       "      <td>/IMG/right_2020_07_14_14_18_36_343.jpg</td>\n",
       "      <td>-0.170588</td>\n",
       "      <td>0.241389</td>\n",
       "      <td>0</td>\n",
       "      <td>8.324794</td>\n",
       "    </tr>\n",
       "  </tbody>\n",
       "</table>\n",
       "</div>"
      ],
      "text/plain": [
       "                                    center  \\\n",
       "0  /IMG/center_2020_07_14_14_18_36_008.jpg   \n",
       "1  /IMG/center_2020_07_14_14_18_36_090.jpg   \n",
       "2  /IMG/center_2020_07_14_14_18_36_168.jpg   \n",
       "3  /IMG/center_2020_07_14_14_18_36_247.jpg   \n",
       "4  /IMG/center_2020_07_14_14_18_36_343.jpg   \n",
       "\n",
       "                                    left  \\\n",
       "0  /IMG/left_2020_07_14_14_18_36_008.jpg   \n",
       "1  /IMG/left_2020_07_14_14_18_36_090.jpg   \n",
       "2  /IMG/left_2020_07_14_14_18_36_168.jpg   \n",
       "3  /IMG/left_2020_07_14_14_18_36_247.jpg   \n",
       "4  /IMG/left_2020_07_14_14_18_36_343.jpg   \n",
       "\n",
       "                                    right  steering  throttle  reverse  \\\n",
       "0  /IMG/right_2020_07_14_14_18_36_008.jpg -0.158824  0.000000        0   \n",
       "1  /IMG/right_2020_07_14_14_18_36_090.jpg -0.170588  0.000000        0   \n",
       "2  /IMG/right_2020_07_14_14_18_36_168.jpg -0.170588  0.000000        0   \n",
       "3  /IMG/right_2020_07_14_14_18_36_247.jpg -0.170588  0.263050        0   \n",
       "4  /IMG/right_2020_07_14_14_18_36_343.jpg -0.170588  0.241389        0   \n",
       "\n",
       "      speed  \n",
       "0  8.075665  \n",
       "1  7.992766  \n",
       "2  7.944249  \n",
       "3  8.021999  \n",
       "4  8.324794  "
      ]
     },
     "execution_count": 11,
     "metadata": {},
     "output_type": "execute_result"
    }
   ],
   "source": [
    "data_cropped = data.drop(columns=['reverse', 'left', 'right', 'speed'])\n",
    "data.head()"
   ]
  },
  {
   "cell_type": "code",
   "execution_count": 12,
   "id": "9b6844be-8ab8-445d-8016-545e001ecab0",
   "metadata": {},
   "outputs": [
    {
     "data": {
      "text/html": [
       "<div>\n",
       "<style scoped>\n",
       "    .dataframe tbody tr th:only-of-type {\n",
       "        vertical-align: middle;\n",
       "    }\n",
       "\n",
       "    .dataframe tbody tr th {\n",
       "        vertical-align: top;\n",
       "    }\n",
       "\n",
       "    .dataframe thead th {\n",
       "        text-align: right;\n",
       "    }\n",
       "</style>\n",
       "<table border=\"1\" class=\"dataframe\">\n",
       "  <thead>\n",
       "    <tr style=\"text-align: right;\">\n",
       "      <th></th>\n",
       "      <th>center</th>\n",
       "      <th>left</th>\n",
       "      <th>right</th>\n",
       "      <th>steering</th>\n",
       "      <th>throttle</th>\n",
       "      <th>reverse</th>\n",
       "      <th>speed</th>\n",
       "    </tr>\n",
       "  </thead>\n",
       "  <tbody>\n",
       "    <tr>\n",
       "      <th>2484</th>\n",
       "      <td>/IMG/center_2020_07_14_14_33_42_674.jpg</td>\n",
       "      <td>/IMG/left_2020_07_14_14_33_42_674.jpg</td>\n",
       "      <td>/IMG/right_2020_07_14_14_33_42_674.jpg</td>\n",
       "      <td>-0.182353</td>\n",
       "      <td>0.0</td>\n",
       "      <td>0</td>\n",
       "      <td>10.007120</td>\n",
       "    </tr>\n",
       "    <tr>\n",
       "      <th>2485</th>\n",
       "      <td>/IMG/center_2020_07_14_14_33_42_750.jpg</td>\n",
       "      <td>/IMG/left_2020_07_14_14_33_42_750.jpg</td>\n",
       "      <td>/IMG/right_2020_07_14_14_33_42_750.jpg</td>\n",
       "      <td>-0.147059</td>\n",
       "      <td>0.0</td>\n",
       "      <td>0</td>\n",
       "      <td>9.928753</td>\n",
       "    </tr>\n",
       "    <tr>\n",
       "      <th>2486</th>\n",
       "      <td>/IMG/center_2020_07_14_14_33_42_834.jpg</td>\n",
       "      <td>/IMG/left_2020_07_14_14_33_42_834.jpg</td>\n",
       "      <td>/IMG/right_2020_07_14_14_33_42_834.jpg</td>\n",
       "      <td>-0.088235</td>\n",
       "      <td>0.0</td>\n",
       "      <td>0</td>\n",
       "      <td>9.850438</td>\n",
       "    </tr>\n",
       "    <tr>\n",
       "      <th>2487</th>\n",
       "      <td>/IMG/center_2020_07_14_14_33_42_917.jpg</td>\n",
       "      <td>/IMG/left_2020_07_14_14_33_42_917.jpg</td>\n",
       "      <td>/IMG/right_2020_07_14_14_33_42_917.jpg</td>\n",
       "      <td>-0.082353</td>\n",
       "      <td>0.0</td>\n",
       "      <td>0</td>\n",
       "      <td>9.772010</td>\n",
       "    </tr>\n",
       "    <tr>\n",
       "      <th>2488</th>\n",
       "      <td>/IMG/center_2020_07_14_14_33_42_992.jpg</td>\n",
       "      <td>/IMG/left_2020_07_14_14_33_42_992.jpg</td>\n",
       "      <td>/IMG/right_2020_07_14_14_33_42_992.jpg</td>\n",
       "      <td>-0.064706</td>\n",
       "      <td>0.0</td>\n",
       "      <td>0</td>\n",
       "      <td>9.693918</td>\n",
       "    </tr>\n",
       "  </tbody>\n",
       "</table>\n",
       "</div>"
      ],
      "text/plain": [
       "                                       center  \\\n",
       "2484  /IMG/center_2020_07_14_14_33_42_674.jpg   \n",
       "2485  /IMG/center_2020_07_14_14_33_42_750.jpg   \n",
       "2486  /IMG/center_2020_07_14_14_33_42_834.jpg   \n",
       "2487  /IMG/center_2020_07_14_14_33_42_917.jpg   \n",
       "2488  /IMG/center_2020_07_14_14_33_42_992.jpg   \n",
       "\n",
       "                                       left  \\\n",
       "2484  /IMG/left_2020_07_14_14_33_42_674.jpg   \n",
       "2485  /IMG/left_2020_07_14_14_33_42_750.jpg   \n",
       "2486  /IMG/left_2020_07_14_14_33_42_834.jpg   \n",
       "2487  /IMG/left_2020_07_14_14_33_42_917.jpg   \n",
       "2488  /IMG/left_2020_07_14_14_33_42_992.jpg   \n",
       "\n",
       "                                       right  steering  throttle  reverse  \\\n",
       "2484  /IMG/right_2020_07_14_14_33_42_674.jpg -0.182353       0.0        0   \n",
       "2485  /IMG/right_2020_07_14_14_33_42_750.jpg -0.147059       0.0        0   \n",
       "2486  /IMG/right_2020_07_14_14_33_42_834.jpg -0.088235       0.0        0   \n",
       "2487  /IMG/right_2020_07_14_14_33_42_917.jpg -0.082353       0.0        0   \n",
       "2488  /IMG/right_2020_07_14_14_33_42_992.jpg -0.064706       0.0        0   \n",
       "\n",
       "          speed  \n",
       "2484  10.007120  \n",
       "2485   9.928753  \n",
       "2486   9.850438  \n",
       "2487   9.772010  \n",
       "2488   9.693918  "
      ]
     },
     "execution_count": 12,
     "metadata": {},
     "output_type": "execute_result"
    }
   ],
   "source": [
    "data.tail()"
   ]
  },
  {
   "cell_type": "code",
   "execution_count": 13,
   "id": "42e9c1de-afc4-4a56-ba31-4bd28505220c",
   "metadata": {},
   "outputs": [
    {
     "data": {
      "text/html": [
       "<div>\n",
       "<style scoped>\n",
       "    .dataframe tbody tr th:only-of-type {\n",
       "        vertical-align: middle;\n",
       "    }\n",
       "\n",
       "    .dataframe tbody tr th {\n",
       "        vertical-align: top;\n",
       "    }\n",
       "\n",
       "    .dataframe thead th {\n",
       "        text-align: right;\n",
       "    }\n",
       "</style>\n",
       "<table border=\"1\" class=\"dataframe\">\n",
       "  <thead>\n",
       "    <tr style=\"text-align: right;\">\n",
       "      <th></th>\n",
       "      <th>center</th>\n",
       "      <th>steering</th>\n",
       "      <th>throttle</th>\n",
       "    </tr>\n",
       "  </thead>\n",
       "  <tbody>\n",
       "    <tr>\n",
       "      <th>0</th>\n",
       "      <td>/IMG/center_2020_07_14_14_18_36_008.jpg</td>\n",
       "      <td>-0.158824</td>\n",
       "      <td>0.000000</td>\n",
       "    </tr>\n",
       "    <tr>\n",
       "      <th>1</th>\n",
       "      <td>/IMG/center_2020_07_14_14_18_36_090.jpg</td>\n",
       "      <td>-0.170588</td>\n",
       "      <td>0.000000</td>\n",
       "    </tr>\n",
       "    <tr>\n",
       "      <th>2</th>\n",
       "      <td>/IMG/center_2020_07_14_14_18_36_168.jpg</td>\n",
       "      <td>-0.170588</td>\n",
       "      <td>0.000000</td>\n",
       "    </tr>\n",
       "    <tr>\n",
       "      <th>3</th>\n",
       "      <td>/IMG/center_2020_07_14_14_18_36_247.jpg</td>\n",
       "      <td>-0.170588</td>\n",
       "      <td>0.263050</td>\n",
       "    </tr>\n",
       "    <tr>\n",
       "      <th>4</th>\n",
       "      <td>/IMG/center_2020_07_14_14_18_36_343.jpg</td>\n",
       "      <td>-0.170588</td>\n",
       "      <td>0.241389</td>\n",
       "    </tr>\n",
       "  </tbody>\n",
       "</table>\n",
       "</div>"
      ],
      "text/plain": [
       "                                    center  steering  throttle\n",
       "0  /IMG/center_2020_07_14_14_18_36_008.jpg -0.158824  0.000000\n",
       "1  /IMG/center_2020_07_14_14_18_36_090.jpg -0.170588  0.000000\n",
       "2  /IMG/center_2020_07_14_14_18_36_168.jpg -0.170588  0.000000\n",
       "3  /IMG/center_2020_07_14_14_18_36_247.jpg -0.170588  0.263050\n",
       "4  /IMG/center_2020_07_14_14_18_36_343.jpg -0.170588  0.241389"
      ]
     },
     "execution_count": 13,
     "metadata": {},
     "output_type": "execute_result"
    }
   ],
   "source": [
    "data_cropped.head()"
   ]
  },
  {
   "cell_type": "markdown",
   "id": "03ced52f-c265-4bd8-a226-4dcf8e455288",
   "metadata": {},
   "source": [
    "## Dataset and Dataloader"
   ]
  },
  {
   "cell_type": "code",
   "execution_count": 15,
   "id": "1672845c-34a1-4cb4-bb51-26ee3576a1ae",
   "metadata": {},
   "outputs": [],
   "source": [
    "class UdacityDataset(Dataset):   \n",
    "    def __init__(self, csv_file, root_dir, transform=None, act_transform=None):\n",
    "        columns = ['center','left','right','steering','throttle','reverse', 'speed']\n",
    "        self.annotations = pd.read_csv('./driving_log.csv', sep=';', names = columns)\n",
    "        self.root_dir = root_dir\n",
    "        self.transform = transform\n",
    "        self.act_transform = act_transform\n",
    "\n",
    "    def __len__(self):\n",
    "        return len(self.annotations)\n",
    "\n",
    "    def __getitem__(self, idx):\n",
    "        if torch.is_tensor(idx):\n",
    "            idx = idx.tolist()\n",
    "        img_name = self.root_dir + self.annotations.iloc[idx]['center']\n",
    "        steer = self.annotations.iloc[idx]['steering'].astype(np.float32)\n",
    "        throttle = self.annotations.iloc[idx]['throttle'].astype(np.float32)\n",
    "        image = io.imread(img_name)\n",
    "        if self.transform:\n",
    "            image = self.transform(image)\n",
    "        action = np.array([steer, throttle])\n",
    "        if self.act_transform:\n",
    "            action = self.act_transform(action)\n",
    "            \n",
    "        return image, action"
   ]
  },
  {
   "cell_type": "code",
   "execution_count": 16,
   "id": "5cc018df-a1d0-4db4-ab3b-b2e982adc5b9",
   "metadata": {},
   "outputs": [],
   "source": [
    "img_transform = transforms.Compose([\n",
    "    transforms.ToTensor(),\n",
    "    transforms.Resize((128, 128)),\n",
    "])\n",
    "\n",
    "action_transform = transforms.Compose([\n",
    "    transforms.ToTensor(),\n",
    "])"
   ]
  },
  {
   "cell_type": "markdown",
   "id": "40e9e5dc-af9d-4564-9226-deaa0fa0fb9d",
   "metadata": {},
   "source": [
    "## Autoencoder model\n",
    "\n",
    "The autoencoder has been trained in the related notebook and will be loaded and used here"
   ]
  },
  {
   "cell_type": "code",
   "execution_count": 18,
   "id": "9460992f-9c5e-4682-91a4-c15f2af34e7c",
   "metadata": {},
   "outputs": [],
   "source": [
    "class Autoencoder(nn.Module):\n",
    "    def __init__(self):\n",
    "        super(Autoencoder, self).__init__()\n",
    "        self.encoder = nn.Sequential(\n",
    "            nn.Conv2d(3, 16, kernel_size=3, stride=1, padding=1),\n",
    "            nn.ReLU(),\n",
    "            nn.MaxPool2d(kernel_size=2, stride=2),\n",
    "            nn.Conv2d(16, 8, kernel_size=3, stride=1, padding=1),\n",
    "            nn.ReLU(),\n",
    "            nn.MaxPool2d(kernel_size=2, stride=2),\n",
    "            nn.Flatten(),\n",
    "            nn.Linear(8*32*32, 100)\n",
    "        )\n",
    "        self.bridge = nn.Sequential(nn.Linear(100, 8*32*32))\n",
    "        self.decoder = nn.Sequential(\n",
    "            nn.ConvTranspose2d(8, 16, \n",
    "                               kernel_size=3, \n",
    "                               stride=2, \n",
    "                               padding=1, \n",
    "                               output_padding=1),\n",
    "            nn.ReLU(),\n",
    "            nn.ConvTranspose2d(16, 3, \n",
    "                               kernel_size=3, \n",
    "                               stride=2, \n",
    "                               padding=1, \n",
    "                               output_padding=1),\n",
    "            nn.Sigmoid()\n",
    "        )\n",
    "         \n",
    "    def forward(self, x):\n",
    "        x = self.encoder(x)\n",
    "        x = self.bridge(x)\n",
    "        x = x.reshape(x.shape[0], -1, 32, 32)\n",
    "        x = self.decoder(x)\n",
    "        return x\n"
   ]
  },
  {
   "cell_type": "code",
   "execution_count": 19,
   "id": "8d848b6c-259e-46f0-ae5a-e980b8c4fa7e",
   "metadata": {},
   "outputs": [
    {
     "data": {
      "text/plain": [
       "Autoencoder(\n",
       "  (encoder): Sequential(\n",
       "    (0): Conv2d(3, 16, kernel_size=(3, 3), stride=(1, 1), padding=(1, 1))\n",
       "    (1): ReLU()\n",
       "    (2): MaxPool2d(kernel_size=2, stride=2, padding=0, dilation=1, ceil_mode=False)\n",
       "    (3): Conv2d(16, 8, kernel_size=(3, 3), stride=(1, 1), padding=(1, 1))\n",
       "    (4): ReLU()\n",
       "    (5): MaxPool2d(kernel_size=2, stride=2, padding=0, dilation=1, ceil_mode=False)\n",
       "    (6): Flatten(start_dim=1, end_dim=-1)\n",
       "    (7): Linear(in_features=8192, out_features=100, bias=True)\n",
       "  )\n",
       "  (bridge): Sequential(\n",
       "    (0): Linear(in_features=100, out_features=8192, bias=True)\n",
       "  )\n",
       "  (decoder): Sequential(\n",
       "    (0): ConvTranspose2d(8, 16, kernel_size=(3, 3), stride=(2, 2), padding=(1, 1), output_padding=(1, 1))\n",
       "    (1): ReLU()\n",
       "    (2): ConvTranspose2d(16, 3, kernel_size=(3, 3), stride=(2, 2), padding=(1, 1), output_padding=(1, 1))\n",
       "    (3): Sigmoid()\n",
       "  )\n",
       ")"
      ]
     },
     "execution_count": 19,
     "metadata": {},
     "output_type": "execute_result"
    }
   ],
   "source": [
    "cnn = Autoencoder()\n",
    "cnn.load_state_dict(torch.load('./Autoencoder.pth', weights_only=True))\n",
    "cnn.eval()"
   ]
  },
  {
   "cell_type": "markdown",
   "id": "0f307baa-0450-49fd-9788-888b8eff95c5",
   "metadata": {},
   "source": [
    "## Behavior Cloning model"
   ]
  },
  {
   "cell_type": "code",
   "execution_count": 21,
   "id": "0db1de3c-27ad-4da9-a59e-3ced562c7ba9",
   "metadata": {},
   "outputs": [],
   "source": [
    "class PolicyNet(nn.Module):\n",
    "    def __init__(self):\n",
    "        super(PolicyNet, self).__init__()\n",
    "        self.net = nn.Sequential(\n",
    "            nn.Linear(100, 300),\n",
    "            nn.ReLU(),\n",
    "            nn.Linear(300, 200),\n",
    "            nn.ReLU(),\n",
    "            nn.Linear(200, 100),\n",
    "            nn.ReLU(),\n",
    "            nn.Linear(100, 50),\n",
    "            nn.ReLU()\n",
    "        )\n",
    "        self.head1 = nn.Sequential(\n",
    "            nn.Linear(50, 1),\n",
    "            nn.Tanh()\n",
    "        )\n",
    "        self.head2 = nn.Sequential(\n",
    "            nn.Linear(50, 1),\n",
    "            nn.Sigmoid()\n",
    "        )\n",
    "\n",
    "    def forward(self, x):\n",
    "        x = self.net(x)\n",
    "        steer = self.head1(x)\n",
    "        throttle = self.head2(x)\n",
    "        return torch.cat((steer, throttle))"
   ]
  },
  {
   "cell_type": "code",
   "execution_count": 22,
   "id": "4ce9e6c0-c281-40f1-a031-ec3d313687ba",
   "metadata": {},
   "outputs": [],
   "source": [
    "policyNet = PolicyNet()"
   ]
  },
  {
   "cell_type": "code",
   "execution_count": 23,
   "id": "c21d945a-167e-4098-94e3-2d1ad1488a61",
   "metadata": {},
   "outputs": [],
   "source": [
    "train_set = UdacityDataset('./driving_log.csv','./', transform = img_transform)"
   ]
  },
  {
   "cell_type": "code",
   "execution_count": 24,
   "id": "612f2b9a-ae18-40e5-9ff3-a02f5176ba86",
   "metadata": {},
   "outputs": [],
   "source": [
    "train_loader = DataLoader(dataset=train_set)"
   ]
  },
  {
   "cell_type": "code",
   "execution_count": 25,
   "id": "1bdaae84-a731-49fc-a550-6eaf8e2271db",
   "metadata": {},
   "outputs": [
    {
     "data": {
      "text/plain": [
       "PolicyNet(\n",
       "  (net): Sequential(\n",
       "    (0): Linear(in_features=100, out_features=300, bias=True)\n",
       "    (1): ReLU()\n",
       "    (2): Linear(in_features=300, out_features=200, bias=True)\n",
       "    (3): ReLU()\n",
       "    (4): Linear(in_features=200, out_features=100, bias=True)\n",
       "    (5): ReLU()\n",
       "    (6): Linear(in_features=100, out_features=50, bias=True)\n",
       "    (7): ReLU()\n",
       "  )\n",
       "  (head1): Sequential(\n",
       "    (0): Linear(in_features=50, out_features=1, bias=True)\n",
       "    (1): Tanh()\n",
       "  )\n",
       "  (head2): Sequential(\n",
       "    (0): Linear(in_features=50, out_features=1, bias=True)\n",
       "    (1): Sigmoid()\n",
       "  )\n",
       ")"
      ]
     },
     "execution_count": 25,
     "metadata": {},
     "output_type": "execute_result"
    }
   ],
   "source": [
    "policyNet.to(device)"
   ]
  },
  {
   "cell_type": "code",
   "execution_count": 26,
   "id": "4ba846ce-48c9-4a7b-b298-54a7692f9c18",
   "metadata": {},
   "outputs": [],
   "source": [
    "criterion = nn.MSELoss()\n",
    "optimizer = optim.SGD(policyNet.parameters(), lr=0.001)"
   ]
  },
  {
   "cell_type": "code",
   "execution_count": 27,
   "id": "08d86e82-a784-4804-9f28-01a3c40453f5",
   "metadata": {},
   "outputs": [
    {
     "name": "stdout",
     "output_type": "stream",
     "text": [
      "10% completed\n",
      "20% completed\n",
      "30% completed\n",
      "40% completed\n",
      "50% completed\n",
      "60% completed\n",
      "70% completed\n",
      "80% completed\n",
      "90% completed\n",
      "100% completed\n"
     ]
    }
   ],
   "source": [
    "num_epochs = 50\n",
    "losses = []\n",
    "counter = 0\n",
    "for img, act in train_loader:\n",
    "    img.to(device)\n",
    "    img.unsqueeze(0)\n",
    "    act = act.transpose(0,1)\n",
    "    with torch.no_grad():\n",
    "        representation = cnn.encoder(img)\n",
    "    for epoch in range(num_epochs):\n",
    "        optimizer.zero_grad()\n",
    "        output = policyNet(representation)\n",
    "        loss = criterion(output, act)\n",
    "        loss.backward()\n",
    "        optimizer.step()\n",
    "        if epoch == (num_epochs-1):\n",
    "            losses.append(loss.item())\n",
    "        counter = counter + 1\n",
    "        if (counter % (int((len(train_set) * 0.1)) * 50)) == 0:\n",
    "            print(f'{counter // (int((len(train_set) * 0.1)) * 50)}0% completed')"
   ]
  },
  {
   "cell_type": "code",
   "execution_count": 28,
   "id": "a96c39aa-d426-4ad6-b535-7cd2151cc2e8",
   "metadata": {},
   "outputs": [
    {
     "data": {
      "image/png": "[encoded data removed]",
      "text/plain": [
       "<Figure size 640x480 with 1 Axes>"
      ]
     },
     "metadata": {},
     "output_type": "display_data"
    }
   ],
   "source": [
    "plt.plot(losses)\n",
    "plt.axhline(y=np.mean(losses), color='red')\n",
    "plt.ylabel('losses')\n",
    "plt.show()"
   ]
  }
 ],
 "metadata": {
  "kernelspec": {
   "display_name": "Python 3 (ipykernel)",
   "language": "python",
   "name": "python3"
  },
  "language_info": {
   "codemirror_mode": {
    "name": "ipython",
    "version": 3
   },
   "file_extension": ".py",
   "mimetype": "text/x-python",
   "name": "python",
   "nbconvert_exporter": "python",
   "pygments_lexer": "ipython3",
   "version": "3.11.7"
  }
 },
 "nbformat": 4,
 "nbformat_minor": 5
}
